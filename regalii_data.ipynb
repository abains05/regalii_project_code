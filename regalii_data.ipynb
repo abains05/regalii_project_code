{
 "cells": [
  {
   "cell_type": "markdown",
   "metadata": {},
   "source": [
    "# Regalii data set\n",
    "Using actual Regalii data from Jan-May 2016, construct features that correspond to some of the features in the Lending Club data set"
   ]
  },
  {
   "cell_type": "code",
   "execution_count": 2,
   "metadata": {
    "collapsed": false,
    "scrolled": true
   },
   "outputs": [
    {
     "name": "stderr",
     "output_type": "stream",
     "text": [
      "/Users/amar/anaconda/envs/my_projects_env/lib/python2.7/site-packages/IPython/html.py:14: ShimWarning: The `IPython.html` package has been deprecated. You should import from `notebook` instead. `IPython.html.widgets` has moved to `ipywidgets`.\n",
      "  \"`IPython.html.widgets` has moved to `ipywidgets`.\", ShimWarning)\n"
     ]
    }
   ],
   "source": [
    "%matplotlib inline\n",
    "\n",
    "#import libraries\n",
    "from __future__ import absolute_import, division, print_function\n",
    "import pandas as pd\n",
    "import numpy as np\n",
    "import matplotlib as mp\n",
    "import matplotlib.pyplot as plt\n",
    "import sklearn as sk\n",
    "import sklearn.ensemble as ske\n",
    "import sklearn.preprocessing as skp\n",
    "import math\n",
    "import sigopt\n",
    "import seaborn as sb\n",
    "import csv\n",
    "import datetime as dt\n",
    "import re\n"
   ]
  },
  {
   "cell_type": "code",
   "execution_count": 3,
   "metadata": {
    "collapsed": true
   },
   "outputs": [],
   "source": [
    "#Load data sets for all months and merge into one dataframe\n",
    "\n",
    "#Load Jan data (note this data set will be used as \"ground truth\" for how many \n",
    "#columns the later months' data sets should have)\n",
    "data = list()\n",
    "with open('regalii_jan.csv') as regalii_file:\n",
    "    reader = csv.reader(regalii_file)\n",
    "    for line in reader:\n",
    "        #Eliminate cells which were not filled with valid data in certain lines (valid data was listed in extra cells at ends of lines)\n",
    "        line = [x.strip() for x in line if not x.startswith('\\\\') and not x.startswith('{\\\\\"label') and x.find('\\\\\\\\r') == -1]\n",
    "        data.append(line)\n",
    "        \n",
    "data = np.array(data)\n",
    "df_jan = pd.DataFrame(data[1:,1:], index=data[1:,0], columns=data[0,1:])\n",
    "#Convert 'created_at' column to datetime type for later use\n",
    "df_jan['created_at'] = pd.to_datetime(df_jan['created_at'])\n",
    "\n",
    "#Set options so that all columns can be displayed if needed\n",
    "pd.options.display.max_columns = len(df_jan.columns)\n",
    "\n",
    "#Load Feb data\n",
    "data = list()\n",
    "with open('regalii_feb.csv') as regalii_file:\n",
    "    reader = csv.reader(regalii_file)\n",
    "    for line in reader:\n",
    "        line = [x.strip() for x in line if not x.startswith('\\\\') and not x.startswith('{\\\\\"label') and x.find('\\\\\\\\r') == -1]\n",
    "        #Remove blank cells that are appended to end of lines\n",
    "        i = len(line)\n",
    "        while line[i-1] == '' and i > len(df_jan.columns)+1:\n",
    "            i -= 1\n",
    "        line = line[:i]\n",
    "        #Only keep lines with mostly non-missing data\n",
    "        if line.count('') < len(df_jan.columns)/2:\n",
    "            data.append(line)\n",
    "        \n",
    "data = np.array(data)\n",
    "df_feb = pd.DataFrame(data[1:,1:], index=data[1:,0], columns=data[0,1:])\n",
    "#Convert 'created_at' column to datetime type for later use\n",
    "df_feb['created_at'] = pd.to_datetime(df_feb['created_at'])\n",
    "\n",
    "#Load March data\n",
    "data = list()\n",
    "with open('regalii_mar.csv') as regalii_file:\n",
    "    reader = csv.reader(regalii_file)\n",
    "    for line in reader:\n",
    "        line = [x.strip() for x in line if not x.startswith('\\\\') and not x.startswith('{\\\\\"label') and x.find('\\\\\\\\r') == -1]\n",
    "        #Remove blank cells that are appended to end of lines\n",
    "        i = len(line)\n",
    "        while line[i-1] == '' and i > len(df_jan.columns)+1:\n",
    "            i -= 1\n",
    "        line = line[:i]\n",
    "        #Only keep lines with mostly non-missing data\n",
    "        if line.count('') < len(df_jan.columns)/2:\n",
    "            data.append(line)\n",
    "        \n",
    "data = np.array(data)\n",
    "df_mar = pd.DataFrame(data[1:,1:], index=data[1:,0], columns=data[0,1:])\n",
    "#Convert 'created_at' column to datetime type for later use\n",
    "df_mar['created_at'] = pd.to_datetime(df_mar['created_at'], dayfirst=True)\n",
    "\n",
    "#Load April data\n",
    "data = list()\n",
    "with open('regalii_apr.csv') as regalii_file:\n",
    "    reader = csv.reader(regalii_file)\n",
    "    for line in reader:\n",
    "        line = [x.strip() for x in line if not x.startswith('\\\\') and not x.startswith('{\\\\\"label') and x.find('\\\\\\\\r') == -1]\n",
    "        #Remove blank cells that are appended to end of lines in this data set\n",
    "        i = len(line)\n",
    "        while line[i-1] == '' and i > len(df_jan.columns)+1:\n",
    "            i -= 1\n",
    "        line = line[:i]\n",
    "        #Only keep lines with mostly non-missing data\n",
    "        if line.count('') < len(df_jan.columns)/2:\n",
    "            data.append(line)\n",
    "        \n",
    "data = np.array(data)\n",
    "df_apr = pd.DataFrame(data[1:,1:], index=data[1:,0], columns=data[0,1:])\n",
    "#Convert 'created_at' column to datetime type for later use\n",
    "df_apr['created_at'] = pd.to_datetime(df_apr['created_at'])\n",
    "\n",
    "#Load May data\n",
    "data = list()\n",
    "with open('regalii_may.csv') as regalii_file:\n",
    "    reader = csv.reader(regalii_file)\n",
    "    for line in reader:\n",
    "        line = [x.strip() for x in line if not x.startswith('\\\\') and not x.startswith('{\\\\\"label') and x.find('\\\\\\\\r') == -1]\n",
    "        #Remove blank cells that are appended to end of lines in this data set\n",
    "        i = len(line)\n",
    "        while line[i-1] == '' and i > len(df_jan.columns)+1:\n",
    "            i -= 1\n",
    "        line = line[:i]\n",
    "        #Only keep lines with mostly non-missing data\n",
    "        if line.count('') < len(df_jan.columns)/2:\n",
    "            data.append(line)\n",
    "        \n",
    "data = np.array(data)\n",
    "df_may = pd.DataFrame(data[1:,1:], index=data[1:,0], columns=data[0,1:])\n",
    "#Convert 'created_at' column to datetime type for later use\n",
    "df_may['created_at'] = pd.to_datetime(df_may['created_at'])\n",
    "\n",
    "#Concatenate all monthly dataframes into one dataframe, dropping any columns \n",
    "#that do not exist in all monthly dataframes\n",
    "frames = [df_jan, df_feb, df_mar, df_apr, df_may]\n",
    "df = pd.concat(frames, axis=0, join='inner')\n",
    "\n",
    "del frames, df_jan, df_feb, df_mar, df_apr, df_may, data"
   ]
  },
  {
   "cell_type": "code",
   "execution_count": 322,
   "metadata": {
    "collapsed": false,
    "scrolled": false
   },
   "outputs": [
    {
     "name": "stdout",
     "output_type": "stream",
     "text": [
      "Number of columns:  62\n",
      "Columns : Index([u'bill_amount', u'bill_currency', u'bill_amount_usd', u'bill_fee_usd',\n",
      "       u'merchant_earned', u'processor_pay_status', u'account_number',\n",
      "       u'processor_auth_number', u'processor_dv',\n",
      "       u'processor_confirmation_message', u'customer_id', u'company_id',\n",
      "       u'user_id', u'created_at', u'updated_at', u'bill_type',\n",
      "       u'regalii_earned_total', u'merchant_starting_balance',\n",
      "       u'merchant_ending_balance', u'bill_discount', u'processor_amount_usd',\n",
      "       u'bill_total_usd', u'merchant_paid', u'store_id', u'chain_id',\n",
      "       u'sales_rep_id', u'invoice_id', u'is_refunded', u'processor_comision',\n",
      "       u'processor_transaction_id', u'name_on_account', u'local_currency',\n",
      "       u'bill_fx_rate', u'bill_amount_local_currency', u'invoice_number',\n",
      "       u'customer_bill_id', u'pos_number', u'external_id', u'fx_delta',\n",
      "       u'processor_id', u'processor_amount', u'processor_currency',\n",
      "       u'processor_fx_rate', u'processor_starting_balance',\n",
      "       u'processor_ending_balance', u'regalii_lost_to_gateway',\n",
      "       u'regalii_earned_from_fx', u'regalii_earned_from_fee',\n",
      "       u'processor_reversal_auth_number', u'regalii_earned_from_processor',\n",
      "       u'regalii_revenue', u'processor_specific_details', u'sms_text',\n",
      "       u'refund_invoice_id', u'refunded_date', u'bill_amount_merchant',\n",
      "       u'bill_fee_merchant', u'merchant_currency', u'merchant_to_usd_fx',\n",
      "       u'bill_total_merchant', u'payment_status', u'topup_bonus_amount'],\n",
      "      dtype='object')\n"
     ]
    }
   ],
   "source": [
    "print('Number of columns: ',len(df.columns))\n",
    "print('Columns :', df.columns)"
   ]
  },
  {
   "cell_type": "code",
   "execution_count": 323,
   "metadata": {
    "collapsed": false,
    "scrolled": true
   },
   "outputs": [
    {
     "data": {
      "text/html": [
       "<div>\n",
       "<table border=\"1\" class=\"dataframe\">\n",
       "  <thead>\n",
       "    <tr style=\"text-align: right;\">\n",
       "      <th></th>\n",
       "      <th>total_payment</th>\n",
       "      <th>total_transactions</th>\n",
       "      <th>avg_payment</th>\n",
       "      <th>median_payment</th>\n",
       "      <th>total_accounts</th>\n",
       "      <th>recent_accounts</th>\n",
       "      <th>avg_monthly_payment</th>\n",
       "      <th>median_monthly_payment</th>\n",
       "    </tr>\n",
       "    <tr>\n",
       "      <th>user_id</th>\n",
       "      <th></th>\n",
       "      <th></th>\n",
       "      <th></th>\n",
       "      <th></th>\n",
       "      <th></th>\n",
       "      <th></th>\n",
       "      <th></th>\n",
       "      <th></th>\n",
       "    </tr>\n",
       "  </thead>\n",
       "  <tbody>\n",
       "    <tr>\n",
       "      <th>1</th>\n",
       "      <td>9671.0022</td>\n",
       "      <td>813</td>\n",
       "      <td>11.895452</td>\n",
       "      <td>9.0000</td>\n",
       "      <td>414</td>\n",
       "      <td>121.0</td>\n",
       "      <td>1611.833700</td>\n",
       "      <td>1857.17500</td>\n",
       "    </tr>\n",
       "    <tr>\n",
       "      <th>1001</th>\n",
       "      <td>7447.0509</td>\n",
       "      <td>614</td>\n",
       "      <td>12.128747</td>\n",
       "      <td>7.0000</td>\n",
       "      <td>364</td>\n",
       "      <td>108.0</td>\n",
       "      <td>1489.410180</td>\n",
       "      <td>1611.36000</td>\n",
       "    </tr>\n",
       "    <tr>\n",
       "      <th>10041</th>\n",
       "      <td>1079.7025</td>\n",
       "      <td>52</td>\n",
       "      <td>20.763510</td>\n",
       "      <td>16.8450</td>\n",
       "      <td>27</td>\n",
       "      <td>6.0</td>\n",
       "      <td>215.940500</td>\n",
       "      <td>205.08000</td>\n",
       "    </tr>\n",
       "    <tr>\n",
       "      <th>10091</th>\n",
       "      <td>155.4019</td>\n",
       "      <td>6</td>\n",
       "      <td>25.900317</td>\n",
       "      <td>22.6431</td>\n",
       "      <td>3</td>\n",
       "      <td>1.0</td>\n",
       "      <td>38.850475</td>\n",
       "      <td>32.72595</td>\n",
       "    </tr>\n",
       "    <tr>\n",
       "      <th>1031</th>\n",
       "      <td>586.3345</td>\n",
       "      <td>5</td>\n",
       "      <td>117.266900</td>\n",
       "      <td>87.1800</td>\n",
       "      <td>2</td>\n",
       "      <td>1.0</td>\n",
       "      <td>146.583625</td>\n",
       "      <td>104.98000</td>\n",
       "    </tr>\n",
       "    <tr>\n",
       "      <th>10391</th>\n",
       "      <td>564.3878</td>\n",
       "      <td>11</td>\n",
       "      <td>51.307982</td>\n",
       "      <td>58.0300</td>\n",
       "      <td>4</td>\n",
       "      <td>1.0</td>\n",
       "      <td>141.096950</td>\n",
       "      <td>142.75500</td>\n",
       "    </tr>\n",
       "    <tr>\n",
       "      <th>1041</th>\n",
       "      <td>3599.4272</td>\n",
       "      <td>140</td>\n",
       "      <td>25.710194</td>\n",
       "      <td>18.9050</td>\n",
       "      <td>51</td>\n",
       "      <td>23.0</td>\n",
       "      <td>719.885440</td>\n",
       "      <td>712.34000</td>\n",
       "    </tr>\n",
       "    <tr>\n",
       "      <th>1051</th>\n",
       "      <td>6883.8790</td>\n",
       "      <td>254</td>\n",
       "      <td>27.101886</td>\n",
       "      <td>21.6469</td>\n",
       "      <td>109</td>\n",
       "      <td>54.0</td>\n",
       "      <td>1376.775800</td>\n",
       "      <td>1482.30000</td>\n",
       "    </tr>\n",
       "    <tr>\n",
       "      <th>10521</th>\n",
       "      <td>22.0000</td>\n",
       "      <td>1</td>\n",
       "      <td>22.000000</td>\n",
       "      <td>22.0000</td>\n",
       "      <td>1</td>\n",
       "      <td>NaN</td>\n",
       "      <td>22.000000</td>\n",
       "      <td>22.00000</td>\n",
       "    </tr>\n",
       "    <tr>\n",
       "      <th>1061</th>\n",
       "      <td>1241.4801</td>\n",
       "      <td>47</td>\n",
       "      <td>26.414470</td>\n",
       "      <td>25.4600</td>\n",
       "      <td>26</td>\n",
       "      <td>16.0</td>\n",
       "      <td>248.296020</td>\n",
       "      <td>186.79000</td>\n",
       "    </tr>\n",
       "  </tbody>\n",
       "</table>\n",
       "</div>"
      ],
      "text/plain": [
       "         total_payment  total_transactions  avg_payment  median_payment  \\\n",
       "user_id                                                                   \n",
       "1            9671.0022                 813    11.895452          9.0000   \n",
       "1001         7447.0509                 614    12.128747          7.0000   \n",
       "10041        1079.7025                  52    20.763510         16.8450   \n",
       "10091         155.4019                   6    25.900317         22.6431   \n",
       "1031          586.3345                   5   117.266900         87.1800   \n",
       "10391         564.3878                  11    51.307982         58.0300   \n",
       "1041         3599.4272                 140    25.710194         18.9050   \n",
       "1051         6883.8790                 254    27.101886         21.6469   \n",
       "10521          22.0000                   1    22.000000         22.0000   \n",
       "1061         1241.4801                  47    26.414470         25.4600   \n",
       "\n",
       "         total_accounts  recent_accounts  avg_monthly_payment  \\\n",
       "user_id                                                         \n",
       "1                   414            121.0          1611.833700   \n",
       "1001                364            108.0          1489.410180   \n",
       "10041                27              6.0           215.940500   \n",
       "10091                 3              1.0            38.850475   \n",
       "1031                  2              1.0           146.583625   \n",
       "10391                 4              1.0           141.096950   \n",
       "1041                 51             23.0           719.885440   \n",
       "1051                109             54.0          1376.775800   \n",
       "10521                 1              NaN            22.000000   \n",
       "1061                 26             16.0           248.296020   \n",
       "\n",
       "         median_monthly_payment  \n",
       "user_id                          \n",
       "1                    1857.17500  \n",
       "1001                 1611.36000  \n",
       "10041                 205.08000  \n",
       "10091                  32.72595  \n",
       "1031                  104.98000  \n",
       "10391                 142.75500  \n",
       "1041                  712.34000  \n",
       "1051                 1482.30000  \n",
       "10521                  22.00000  \n",
       "1061                  186.79000  "
      ]
     },
     "execution_count": 323,
     "metadata": {},
     "output_type": "execute_result"
    }
   ],
   "source": [
    "#Grab 'bill_total_usd' column and strip '$' from the front of all entries where it occurs\n",
    "#and convert column to being numeric\n",
    "df['bill_total_usd'] = df['bill_total_usd'].apply(lambda x: x.lstrip('$'))\n",
    "df['bill_total_usd'] = pd.to_numeric(df['bill_total_usd'])\n",
    "\n",
    "#For each unique user, count how many transactions they had and the total $ amount of transactions, \n",
    "#and then calculate the median $/transaction. Add all these features to a new dataframe\n",
    "total_bill = df.groupby('user_id')['bill_total_usd'].sum().rename('total_payment')\n",
    "total_transactions = df.groupby('user_id')['bill_total_usd'].count().rename('total_transactions')\n",
    "avg_transaction_amount = df.groupby('user_id')['bill_total_usd'].mean().rename('avg_payment')\n",
    "median_transaction_amount = df.groupby('user_id')['bill_total_usd'].median().rename('median_payment')\n",
    "df_agg = pd.concat([total_bill, total_transactions, avg_transaction_amount, median_transaction_amount], axis=1, join='outer')\n",
    "\n",
    "del total_bill, total_transactions, avg_transaction_amount, median_transaction_amount\n",
    "\n",
    "#For each user, count how many different billing accounts they use Regalii to pay for and add to dataframe\n",
    "total_accounts = df.groupby('user_id')['account_number'].nunique()\n",
    "df_agg['total_accounts'] = total_accounts\n",
    "\n",
    "del total_accounts\n",
    "\n",
    "#For each user, count how many different billing accounts they have paid in approximately the last month \n",
    "#(relates to 'open_acc' in Lending Club data)\n",
    "df['created_at'] = pd.to_datetime(df['created_at'])\n",
    "one_month_ago = pd.to_datetime(dt.datetime.today().strftime('%m/%d/%Y')) - pd.tseries.offsets.DateOffset(months=1, days=10)\n",
    "recent_transactions = df[df['created_at'] > one_month_ago]\n",
    "recent_accounts = recent_transactions.groupby('user_id')['account_number'].nunique()\n",
    "df_agg['recent_accounts'] = recent_accounts\n",
    "df_agg.loc[:,'recent_accounts'].fillna(0, inplace=True)\n",
    "\n",
    "del one_month_ago, recent_transactions, recent_accounts\n",
    "\n",
    "#For each user, calculate the avg and median payments per month\n",
    "tmp = df.groupby([df['user_id'], df['created_at'].dt.month]).sum()\n",
    "df_agg['avg_monthly_payment'] = tmp.groupby(level=0).mean()\n",
    "df_agg['median_monthly_payment'] = tmp.groupby(level=0).median()\n",
    "\n",
    "del tmp\n",
    "\n",
    "\n",
    "#Show sample of entries from resulting dataframe\n",
    "df_agg.head(n=10)"
   ]
  },
  {
   "cell_type": "code",
   "execution_count": 329,
   "metadata": {
    "collapsed": false,
    "scrolled": true
   },
   "outputs": [
    {
     "data": {
      "text/html": [
       "<div>\n",
       "<table border=\"1\" class=\"dataframe\">\n",
       "  <thead>\n",
       "    <tr style=\"text-align: right;\">\n",
       "      <th></th>\n",
       "      <th>total_payment</th>\n",
       "      <th>total_transactions</th>\n",
       "      <th>avg_payment</th>\n",
       "      <th>median_payment</th>\n",
       "      <th>total_accounts</th>\n",
       "      <th>recent_accounts</th>\n",
       "      <th>avg_monthly_payment</th>\n",
       "      <th>median_monthly_payment</th>\n",
       "    </tr>\n",
       "    <tr>\n",
       "      <th>user_id</th>\n",
       "      <th></th>\n",
       "      <th></th>\n",
       "      <th></th>\n",
       "      <th></th>\n",
       "      <th></th>\n",
       "      <th></th>\n",
       "      <th></th>\n",
       "      <th></th>\n",
       "    </tr>\n",
       "  </thead>\n",
       "  <tbody>\n",
       "    <tr>\n",
       "      <th>1</th>\n",
       "      <td>9671.0022</td>\n",
       "      <td>813</td>\n",
       "      <td>11.895452</td>\n",
       "      <td>9.0000</td>\n",
       "      <td>414</td>\n",
       "      <td>121.0</td>\n",
       "      <td>1611.833700</td>\n",
       "      <td>1857.17500</td>\n",
       "    </tr>\n",
       "    <tr>\n",
       "      <th>1001</th>\n",
       "      <td>7447.0509</td>\n",
       "      <td>614</td>\n",
       "      <td>12.128747</td>\n",
       "      <td>7.0000</td>\n",
       "      <td>364</td>\n",
       "      <td>108.0</td>\n",
       "      <td>1489.410180</td>\n",
       "      <td>1611.36000</td>\n",
       "    </tr>\n",
       "    <tr>\n",
       "      <th>10041</th>\n",
       "      <td>1079.7025</td>\n",
       "      <td>52</td>\n",
       "      <td>20.763510</td>\n",
       "      <td>16.8450</td>\n",
       "      <td>27</td>\n",
       "      <td>6.0</td>\n",
       "      <td>215.940500</td>\n",
       "      <td>205.08000</td>\n",
       "    </tr>\n",
       "    <tr>\n",
       "      <th>10091</th>\n",
       "      <td>155.4019</td>\n",
       "      <td>6</td>\n",
       "      <td>25.900317</td>\n",
       "      <td>22.6431</td>\n",
       "      <td>3</td>\n",
       "      <td>1.0</td>\n",
       "      <td>38.850475</td>\n",
       "      <td>32.72595</td>\n",
       "    </tr>\n",
       "    <tr>\n",
       "      <th>1031</th>\n",
       "      <td>586.3345</td>\n",
       "      <td>5</td>\n",
       "      <td>117.266900</td>\n",
       "      <td>87.1800</td>\n",
       "      <td>2</td>\n",
       "      <td>1.0</td>\n",
       "      <td>146.583625</td>\n",
       "      <td>104.98000</td>\n",
       "    </tr>\n",
       "    <tr>\n",
       "      <th>10391</th>\n",
       "      <td>564.3878</td>\n",
       "      <td>11</td>\n",
       "      <td>51.307982</td>\n",
       "      <td>58.0300</td>\n",
       "      <td>4</td>\n",
       "      <td>1.0</td>\n",
       "      <td>141.096950</td>\n",
       "      <td>142.75500</td>\n",
       "    </tr>\n",
       "    <tr>\n",
       "      <th>1041</th>\n",
       "      <td>3599.4272</td>\n",
       "      <td>140</td>\n",
       "      <td>25.710194</td>\n",
       "      <td>18.9050</td>\n",
       "      <td>51</td>\n",
       "      <td>23.0</td>\n",
       "      <td>719.885440</td>\n",
       "      <td>712.34000</td>\n",
       "    </tr>\n",
       "    <tr>\n",
       "      <th>1051</th>\n",
       "      <td>6883.8790</td>\n",
       "      <td>254</td>\n",
       "      <td>27.101886</td>\n",
       "      <td>21.6469</td>\n",
       "      <td>109</td>\n",
       "      <td>54.0</td>\n",
       "      <td>1376.775800</td>\n",
       "      <td>1482.30000</td>\n",
       "    </tr>\n",
       "    <tr>\n",
       "      <th>10521</th>\n",
       "      <td>22.0000</td>\n",
       "      <td>1</td>\n",
       "      <td>22.000000</td>\n",
       "      <td>22.0000</td>\n",
       "      <td>1</td>\n",
       "      <td>0.0</td>\n",
       "      <td>22.000000</td>\n",
       "      <td>22.00000</td>\n",
       "    </tr>\n",
       "    <tr>\n",
       "      <th>1061</th>\n",
       "      <td>1241.4801</td>\n",
       "      <td>47</td>\n",
       "      <td>26.414470</td>\n",
       "      <td>25.4600</td>\n",
       "      <td>26</td>\n",
       "      <td>16.0</td>\n",
       "      <td>248.296020</td>\n",
       "      <td>186.79000</td>\n",
       "    </tr>\n",
       "  </tbody>\n",
       "</table>\n",
       "</div>"
      ],
      "text/plain": [
       "         total_payment  total_transactions  avg_payment  median_payment  \\\n",
       "user_id                                                                   \n",
       "1            9671.0022                 813    11.895452          9.0000   \n",
       "1001         7447.0509                 614    12.128747          7.0000   \n",
       "10041        1079.7025                  52    20.763510         16.8450   \n",
       "10091         155.4019                   6    25.900317         22.6431   \n",
       "1031          586.3345                   5   117.266900         87.1800   \n",
       "10391         564.3878                  11    51.307982         58.0300   \n",
       "1041         3599.4272                 140    25.710194         18.9050   \n",
       "1051         6883.8790                 254    27.101886         21.6469   \n",
       "10521          22.0000                   1    22.000000         22.0000   \n",
       "1061         1241.4801                  47    26.414470         25.4600   \n",
       "\n",
       "         total_accounts  recent_accounts  avg_monthly_payment  \\\n",
       "user_id                                                         \n",
       "1                   414            121.0          1611.833700   \n",
       "1001                364            108.0          1489.410180   \n",
       "10041                27              6.0           215.940500   \n",
       "10091                 3              1.0            38.850475   \n",
       "1031                  2              1.0           146.583625   \n",
       "10391                 4              1.0           141.096950   \n",
       "1041                 51             23.0           719.885440   \n",
       "1051                109             54.0          1376.775800   \n",
       "10521                 1              0.0            22.000000   \n",
       "1061                 26             16.0           248.296020   \n",
       "\n",
       "         median_monthly_payment  \n",
       "user_id                          \n",
       "1                    1857.17500  \n",
       "1001                 1611.36000  \n",
       "10041                 205.08000  \n",
       "10091                  32.72595  \n",
       "1031                  104.98000  \n",
       "10391                 142.75500  \n",
       "1041                  712.34000  \n",
       "1051                 1482.30000  \n",
       "10521                  22.00000  \n",
       "1061                  186.79000  "
      ]
     },
     "execution_count": 329,
     "metadata": {},
     "output_type": "execute_result"
    }
   ],
   "source": [
    "df_agg.head(n=10)"
   ]
  },
  {
   "cell_type": "code",
   "execution_count": 358,
   "metadata": {
    "collapsed": false,
    "scrolled": true
   },
   "outputs": [
    {
     "data": {
      "text/plain": [
       "<matplotlib.text.Text at 0x159abafd0>"
      ]
     },
     "execution_count": 358,
     "metadata": {},
     "output_type": "execute_result"
    },
    {
     "data": {
      "image/png": "[encoded data removed]",
      "text/plain": [
       "<matplotlib.figure.Figure at 0x1c6728e50>"
      ]
     },
     "metadata": {},
     "output_type": "display_data"
    }
   ],
   "source": [
    "#Plot of 'total_payment' distribution\n",
    "bins = np.concatenate((np.arange(0,20000,200), [np.inf]))\n",
    "fig1 = plt.figure()\n",
    "n1,_,_ = plt.hist(df_agg['total_payment'], bins)\n",
    "plt.xlabel('Total Payment Amount ($) Made Per User (Jan-May 2016)')\n",
    "plt.ylabel('Count')"
   ]
  },
  {
   "cell_type": "code",
   "execution_count": 357,
   "metadata": {
    "collapsed": false,
    "scrolled": true
   },
   "outputs": [
    {
     "data": {
      "text/plain": [
       "<matplotlib.text.Text at 0x17c057350>"
      ]
     },
     "execution_count": 357,
     "metadata": {},
     "output_type": "execute_result"
    },
    {
     "data": {
      "image/png": "[encoded data removed]",
      "text/plain": [
       "<matplotlib.figure.Figure at 0x18b94ab90>"
      ]
     },
     "metadata": {},
     "output_type": "display_data"
    }
   ],
   "source": [
    "#Plot of 'total_transactions' distribution\n",
    "bins = np.concatenate((np.arange(0,2000,20), [np.inf]))\n",
    "fig2 = plt.figure()\n",
    "n2,_,_ = plt.hist(df_agg['total_transactions'], bins)\n",
    "plt.xlabel('Total Transactions Made Per User (Jan-May 2016)')\n",
    "plt.ylabel('Count')"
   ]
  },
  {
   "cell_type": "code",
   "execution_count": 359,
   "metadata": {
    "collapsed": false,
    "scrolled": true
   },
   "outputs": [
    {
     "data": {
      "text/plain": [
       "<matplotlib.text.Text at 0x1cd19ffd0>"
      ]
     },
     "execution_count": 359,
     "metadata": {},
     "output_type": "execute_result"
    },
    {
     "data": {
      "image/png": "[encoded data removed]",
      "text/plain": [
       "<matplotlib.figure.Figure at 0x1b95f4790>"
      ]
     },
     "metadata": {},
     "output_type": "display_data"
    }
   ],
   "source": [
    "#Plot of 'avg_payment' distribution\n",
    "bins = np.concatenate((np.arange(0,100,1), [np.inf]))\n",
    "fig3 = plt.figure()\n",
    "n3,_,_ = plt.hist(df_agg['avg_payment'], bins)\n",
    "plt.xlabel('Avg Payment Size ($) Per User (Jan-May 2016)')\n",
    "plt.ylabel('Count')"
   ]
  },
  {
   "cell_type": "code",
   "execution_count": 360,
   "metadata": {
    "collapsed": false
   },
   "outputs": [
    {
     "data": {
      "text/plain": [
       "<matplotlib.text.Text at 0x1c67c3c50>"
      ]
     },
     "execution_count": 360,
     "metadata": {},
     "output_type": "execute_result"
    },
    {
     "data": {
      "image/png": "[encoded data removed]",
      "text/plain": [
       "<matplotlib.figure.Figure at 0x1c6431610>"
      ]
     },
     "metadata": {},
     "output_type": "display_data"
    }
   ],
   "source": [
    "#Plot of 'median_payment' distribution\n",
    "bins = np.concatenate((np.arange(0,100,1), [np.inf]))\n",
    "fig4 = plt.figure()\n",
    "n4,_,_ = plt.hist(df_agg['median_payment'], bins)\n",
    "plt.xlabel('Median Payment Size ($) Per User (Jan-May 2016)')\n",
    "plt.ylabel('Count')"
   ]
  },
  {
   "cell_type": "code",
   "execution_count": 347,
   "metadata": {
    "collapsed": false,
    "scrolled": true
   },
   "outputs": [
    {
     "data": {
      "text/plain": [
       "<matplotlib.text.Text at 0x18a9259d0>"
      ]
     },
     "execution_count": 347,
     "metadata": {},
     "output_type": "execute_result"
    },
    {
     "data": {
      "image/png": "[encoded data removed]",
      "text/plain": [
       "<matplotlib.figure.Figure at 0x1d19e3450>"
      ]
     },
     "metadata": {},
     "output_type": "display_data"
    }
   ],
   "source": [
    "#Plot of 'total_accounts' distribution\n",
    "bins = np.concatenate((np.arange(0,450,5), [np.inf]))\n",
    "fig5 = plt.figure()\n",
    "n5,_,_ = plt.hist(df_agg['total_accounts'], bins)\n",
    "plt.xlabel('Total Number of Accounts Per User (Jan-May 2016)')\n",
    "plt.ylabel('Count')"
   ]
  },
  {
   "cell_type": "code",
   "execution_count": 354,
   "metadata": {
    "collapsed": false,
    "scrolled": true
   },
   "outputs": [
    {
     "data": {
      "text/plain": [
       "<matplotlib.text.Text at 0x194237cd0>"
      ]
     },
     "execution_count": 354,
     "metadata": {},
     "output_type": "execute_result"
    },
    {
     "data": {
      "image/png": "[encoded data removed]",
      "text/plain": [
       "<matplotlib.figure.Figure at 0x1d093afd0>"
      ]
     },
     "metadata": {},
     "output_type": "display_data"
    }
   ],
   "source": [
    "#Plot of 'recent_accounts' distribution\n",
    "bins = np.concatenate((np.arange(0,450,5), [np.inf]))\n",
    "fig6 = plt.figure()\n",
    "n6,_,_ = plt.hist(df_agg['recent_accounts'], bins)\n",
    "plt.xlabel('Total Number of Accounts Active in Last Month Per User (Jan-May 2016)')\n",
    "plt.ylabel('Count')"
   ]
  },
  {
   "cell_type": "code",
   "execution_count": 355,
   "metadata": {
    "collapsed": false,
    "scrolled": true
   },
   "outputs": [
    {
     "data": {
      "text/plain": [
       "<matplotlib.text.Text at 0x1810b6590>"
      ]
     },
     "execution_count": 355,
     "metadata": {},
     "output_type": "execute_result"
    },
    {
     "data": {
      "image/png": "[encoded data removed]",
      "text/plain": [
       "<matplotlib.figure.Figure at 0x1ba1a75d0>"
      ]
     },
     "metadata": {},
     "output_type": "display_data"
    }
   ],
   "source": [
    "#Plot of 'avg_monthly_payment' distribution\n",
    "bins = np.concatenate((np.arange(0,4000,40), [np.inf]))\n",
    "fig7 = plt.figure()\n",
    "n7,_,_ = plt.hist(df_agg['avg_monthly_payment'], bins)\n",
    "plt.xlabel('Avg Monthly Payment Per User (Jan-May 2016)')\n",
    "plt.ylabel('Count')"
   ]
  },
  {
   "cell_type": "code",
   "execution_count": 364,
   "metadata": {
    "collapsed": false,
    "scrolled": false
   },
   "outputs": [
    {
     "data": {
      "text/plain": [
       "<matplotlib.text.Text at 0x1cacf20d0>"
      ]
     },
     "execution_count": 364,
     "metadata": {},
     "output_type": "execute_result"
    },
    {
     "data": {
      "image/png": "[encoded data removed]",
      "text/plain": [
       "<matplotlib.figure.Figure at 0x1cfedf550>"
      ]
     },
     "metadata": {},
     "output_type": "display_data"
    }
   ],
   "source": [
    "#Plot of 'median_monthly_payment' distribution\n",
    "bins = np.concatenate((np.arange(0,4000,40), [np.inf]))\n",
    "fig8 = plt.figure()\n",
    "n8,_,_ = plt.hist(df_agg['median_monthly_payment'], bins)\n",
    "plt.xlabel('Median Monthly Payment Per User (Jan-May 2016)')\n",
    "plt.ylabel('Count')"
   ]
  }
 ],
 "metadata": {
  "kernelspec": {
   "display_name": "Python 2",
   "language": "python",
   "name": "python2"
  },
  "language_info": {
   "codemirror_mode": {
    "name": "ipython",
    "version": 2
   },
   "file_extension": ".py",
   "mimetype": "text/x-python",
   "name": "python",
   "nbconvert_exporter": "python",
   "pygments_lexer": "ipython2",
   "version": "2.7.11"
  }
 },
 "nbformat": 4,
 "nbformat_minor": 0
}
